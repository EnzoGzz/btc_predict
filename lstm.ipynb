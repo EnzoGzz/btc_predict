{
 "cells": [
  {
   "cell_type": "markdown",
   "metadata": {
    "pycharm": {
     "name": "#%% md\n"
    }
   },
   "source": [
    "# LSTM\n",
    "Long-short term memory - RNN\n",
    "\n",
    "---\n",
    "\n",
    "## Imports"
   ]
  },
  {
   "cell_type": "code",
   "execution_count": 13,
   "metadata": {
    "pycharm": {
     "name": "#%%\n"
    }
   },
   "outputs": [],
   "source": [
    "import numpy as np\n",
    "import matplotlib.pyplot as plt\n",
    "import pandas as pd\n",
    "import pandas_datareader as web\n",
    "import datetime as dt\n",
    "\n",
    "from sklearn.preprocessing import MinMaxScaler\n",
    "from tensorflow.keras.layers import Dense, Dropout, LSTM\n",
    "from tensorflow.keras.models import Sequential"
   ]
  },
  {
   "cell_type": "markdown",
   "metadata": {},
   "source": [
    "## Fetching data\n",
    "We are fetching data from [yahoo api](https://developer.yahoo.com/api/)."
   ]
  },
  {
   "cell_type": "code",
   "execution_count": 14,
   "metadata": {
    "pycharm": {
     "name": "#%%\n"
    }
   },
   "outputs": [],
   "source": [
    "crypto_currency = 'BTC'\n",
    "against_currency = 'USD'\n",
    "\n",
    "start = dt.datetime(2016, 1, 1)\n",
    "end = dt.datetime.now()\n",
    "\n",
    "data = web.DataReader(f'{crypto_currency}-{against_currency}', 'yahoo', start, end)"
   ]
  },
  {
   "cell_type": "markdown",
   "metadata": {},
   "source": [
    "## Prepare Data\n",
    "Spliting data into two variables. X and Y to train the model.\n",
    "Scaled data is split at prediction_days value.\n",
    "The we reshape both variables to fit correct dimension with lstm. (3dim)"
   ]
  },
  {
   "cell_type": "code",
   "execution_count": 15,
   "metadata": {
    "pycharm": {
     "name": "#%%\n"
    }
   },
   "outputs": [],
   "source": [
    "scaler = MinMaxScaler(feature_range=(0, 1))\n",
    "scaled_data = scaler.fit_transform(data['Close'].values.reshape(-1, 1))\n",
    "\n",
    "prediction_days = 400\n",
    "\n",
    "x_train, y_train = [], []\n",
    "\n",
    "for x in range(prediction_days, len(scaled_data)):\n",
    "    x_train.append(scaled_data[x - prediction_days:x, 0])\n",
    "    y_train.append(scaled_data[x, 0])\n",
    "\n",
    "x_train, y_train = np.array(x_train), np.array(y_train)\n",
    "x_train = np.reshape(x_train, (x_train.shape[0], x_train.shape[1], 1))"
   ]
  },
  {
   "cell_type": "markdown",
   "metadata": {},
   "source": [
    "## Create Neural Network Model\n",
    "Creating 3 rows of 50 units.\n",
    "Adding dropout to regularisation.\n",
    "Dense module to connect all nodes to an end (output)."
   ]
  },
  {
   "cell_type": "code",
   "execution_count": 22,
   "metadata": {
    "pycharm": {
     "is_executing": true,
     "name": "#%%\n"
    }
   },
   "outputs": [
    {
     "name": "stdout",
     "output_type": "stream",
     "text": [
      "Epoch 1/25\n",
      "57/57 [==============================] - 33s 483ms/step - loss: 0.0094\n",
      "Epoch 2/25\n",
      "57/57 [==============================] - 28s 486ms/step - loss: 0.0034\n",
      "Epoch 3/25\n",
      "57/57 [==============================] - 26s 463ms/step - loss: 0.0027\n",
      "Epoch 4/25\n",
      "57/57 [==============================] - 27s 477ms/step - loss: 0.0024\n",
      "Epoch 5/25\n",
      "57/57 [==============================] - 27s 477ms/step - loss: 0.0022\n",
      "Epoch 6/25\n",
      "57/57 [==============================] - 27s 472ms/step - loss: 0.0022\n",
      "Epoch 7/25\n",
      "57/57 [==============================] - 27s 476ms/step - loss: 0.0020\n",
      "Epoch 8/25\n",
      "57/57 [==============================] - 26s 457ms/step - loss: 0.0024\n",
      "Epoch 9/25\n",
      "57/57 [==============================] - 26s 457ms/step - loss: 0.0020\n",
      "Epoch 10/25\n",
      "57/57 [==============================] - 27s 473ms/step - loss: 0.0017\n",
      "Epoch 11/25\n",
      "57/57 [==============================] - 27s 469ms/step - loss: 0.0017\n",
      "Epoch 12/25\n",
      "57/57 [==============================] - 27s 475ms/step - loss: 0.0018\n",
      "Epoch 13/25\n",
      "57/57 [==============================] - 26s 463ms/step - loss: 0.0018\n",
      "Epoch 14/25\n",
      "57/57 [==============================] - 28s 487ms/step - loss: 0.0017\n",
      "Epoch 15/25\n",
      "57/57 [==============================] - 27s 467ms/step - loss: 0.0015\n",
      "Epoch 16/25\n",
      "57/57 [==============================] - 27s 468ms/step - loss: 0.0016\n",
      "Epoch 17/25\n",
      "57/57 [==============================] - 27s 475ms/step - loss: 0.0015\n",
      "Epoch 18/25\n",
      "57/57 [==============================] - 27s 470ms/step - loss: 0.0014\n",
      "Epoch 19/25\n",
      "57/57 [==============================] - 27s 466ms/step - loss: 0.0014\n",
      "Epoch 20/25\n",
      "57/57 [==============================] - 27s 466ms/step - loss: 0.0013\n",
      "Epoch 21/25\n",
      "57/57 [==============================] - 27s 469ms/step - loss: 0.0017\n",
      "Epoch 22/25\n",
      "57/57 [==============================] - 27s 472ms/step - loss: 0.0014\n",
      "Epoch 23/25\n",
      "57/57 [==============================] - 27s 466ms/step - loss: 0.0012\n",
      "Epoch 24/25\n",
      "57/57 [==============================] - 26s 462ms/step - loss: 0.0013\n",
      "Epoch 25/25\n",
      "57/57 [==============================] - 26s 462ms/step - loss: 0.0012\n"
     ]
    },
    {
     "data": {
      "text/plain": [
       "<keras.callbacks.History at 0x7f87ac7040a0>"
      ]
     },
     "execution_count": 22,
     "metadata": {},
     "output_type": "execute_result"
    }
   ],
   "source": [
    "model = Sequential()\n",
    "\n",
    "model.add(LSTM(units=50, return_sequences=True, input_shape=(x_train.shape[1], 1)))\n",
    "model.add(Dropout(0.2))\n",
    "model.add(LSTM(units=50, return_sequences=True))\n",
    "model.add(Dropout(0.2))\n",
    "model.add(LSTM(units=50))\n",
    "model.add(Dropout(0.2))\n",
    "model.add(Dense(units=1))\n",
    "\n",
    "model.compile(optimizer='adam', loss='mean_squared_error')\n",
    "model.fit(x_train, y_train, epochs=25, batch_size=32)"
   ]
  },
  {
   "cell_type": "markdown",
   "metadata": {},
   "source": [
    "## Testing The Model\n",
    "Fetching data to test our model (ie: 2020,1,1 to now)\n",
    "Sanitize useless features provided. (only Close is needed)\n",
    "Transform values to an relative intervalle between 0 and 1. (needed by the model)"
   ]
  },
  {
   "cell_type": "code",
   "execution_count": 23,
   "metadata": {
    "pycharm": {
     "is_executing": true,
     "name": "#%%\n"
    }
   },
   "outputs": [],
   "source": [
    "test_start = dt.datetime(2020, 1, 1)\n",
    "test_end = dt.datetime.now()\n",
    "\n",
    "test_data = web.DataReader(f'{crypto_currency}-{against_currency}', 'yahoo', test_start, test_end)\n",
    "actual_prices = test_data['Close'].values\n",
    "\n",
    "total_dataset = pd.concat((data['Close'], test_data['Close']), axis=0)\n",
    "\n",
    "model_inputs = total_dataset[len(total_dataset) - len(test_data) - prediction_days:].values\n",
    "model_inputs = model_inputs.reshape(-1, 1)\n",
    "model_inputs = scaler.fit_transform(model_inputs)"
   ]
  },
  {
   "cell_type": "markdown",
   "metadata": {},
   "source": [
    "### Predicting On Test Model\n",
    "Using the model and ploting prediction above real values."
   ]
  },
  {
   "cell_type": "code",
   "execution_count": 24,
   "metadata": {
    "pycharm": {
     "is_executing": true,
     "name": "#%%\n"
    }
   },
   "outputs": [
    {
     "data": {
      "image/png": "[encoded data removed]",
      "text/plain": [
       "<Figure size 432x288 with 1 Axes>"
      ]
     },
     "metadata": {
      "needs_background": "light"
     },
     "output_type": "display_data"
    }
   ],
   "source": [
    "x_test = []\n",
    "\n",
    "for x in range(prediction_days, len(model_inputs) + 1):\n",
    "    x_test.append(model_inputs[x - prediction_days:x, 0])\n",
    "\n",
    "x_test = np.array(x_test)\n",
    "x_test = np.reshape(x_test, (x_test.shape[0], x_test.shape[1], 1))\n",
    "\n",
    "prediction_prices = model.predict(x_test)\n",
    "prediction_prices = scaler.inverse_transform(prediction_prices)\n",
    "\n",
    "plt.plot(actual_prices, color='black', label='Actual prices')\n",
    "plt.plot(prediction_prices, color='green', label='Predicted Prices')\n",
    "plt.title(f'{crypto_currency} price prediction')\n",
    "plt.xlabel('Time')\n",
    "plt.ylabel('Price')\n",
    "plt.legend(loc='upper left')\n",
    "plt.show()"
   ]
  },
  {
   "cell_type": "markdown",
   "metadata": {},
   "source": [
    "## Predicting The Future\n",
    "\n",
    "### Only one value\n",
    "We are taking values out of fetched data. Predicting one value is realistic."
   ]
  },
  {
   "cell_type": "code",
   "execution_count": 25,
   "metadata": {
    "pycharm": {
     "is_executing": true,
     "name": "#%%\n"
    }
   },
   "outputs": [
    {
     "name": "stdout",
     "output_type": "stream",
     "text": [
      "Prediction : [[44720.543]]\n"
     ]
    }
   ],
   "source": [
    "real_data = [model_inputs[len(model_inputs) - prediction_days:len(model_inputs) + 1, 0]]\n",
    "real_data = np.array(real_data)\n",
    "real_data = np.reshape(real_data, (real_data.shape[0], real_data.shape[1], 1))\n",
    "\n",
    "prediction = model.predict(real_data)\n",
    "prediction = scaler.inverse_transform(prediction)\n",
    "print(f\"Prediction : {prediction}\")\n"
   ]
  },
  {
   "cell_type": "markdown",
   "metadata": {},
   "source": [
    "### Multiple row *(failed)*\n",
    "The idea was to loop through predicting, feed by his own prediction. However the model failed but we don't now why."
   ]
  },
  {
   "cell_type": "code",
   "execution_count": 26,
   "metadata": {
    "pycharm": {
     "is_executing": true,
     "name": "#%%\n"
    }
   },
   "outputs": [
    {
     "data": {
      "image/png": "[encoded data removed]",
      "text/plain": [
       "<Figure size 432x288 with 1 Axes>"
      ]
     },
     "metadata": {
      "needs_background": "light"
     },
     "output_type": "display_data"
    }
   ],
   "source": [
    "future_days = 100\n",
    "\n",
    "base_values = real_data[0]\n",
    "predicted_values = []\n",
    "\n",
    "\n",
    "for i in range(0, future_days):\n",
    "    value = model.predict(np.array([base_values]))\n",
    "    base_values = np.append(base_values, value, axis=0)\n",
    "    predicted_values.append(scaler.inverse_transform(value)[0][0])\n",
    "    base_values = base_values[1:]\n",
    "\n",
    "\n",
    "graph = scaler.inverse_transform(real_data[0])\n",
    "\n",
    "x_axe = []\n",
    "for j in range(len(real_data[0]),len(real_data[0])+future_days):\n",
    "    x_axe.append(j)\n",
    "\n",
    "plt.plot(graph, color='black', label='Actual prices')\n",
    "plt.plot(x_axe, predicted_values, color='green', label='Predicted Prices')\n",
    "plt.title(f'{crypto_currency} price prediction')\n",
    "plt.xlabel('Time')\n",
    "plt.ylabel('Price')\n",
    "plt.legend(loc='upper left')\n",
    "plt.show()"
   ]
  },
  {
   "cell_type": "markdown",
   "metadata": {},
   "source": []
  }
 ],
 "metadata": {
  "kernelspec": {
   "display_name": "Python 3 (ipykernel)",
   "language": "python",
   "name": "python3"
  },
  "language_info": {
   "codemirror_mode": {
    "name": "ipython",
    "version": 3
   },
   "file_extension": ".py",
   "mimetype": "text/x-python",
   "name": "python",
   "nbconvert_exporter": "python",
   "pygments_lexer": "ipython3",
   "version": "3.9.9"
  }
 },
 "nbformat": 4,
 "nbformat_minor": 1
}